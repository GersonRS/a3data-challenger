{
 "cells": [
  {
   "cell_type": "code",
   "execution_count": 131,
   "metadata": {
    "tags": []
   },
   "outputs": [],
   "source": [
    "#Importando as bibliotecas necessárias\n",
    "import sys\n",
    "import os\n",
    "import mlflow\n",
    "import mlflow.sklearn\n",
    "from urllib.parse import urlparse"
   ]
  },
  {
   "cell_type": "code",
   "execution_count": 132,
   "metadata": {
    "tags": []
   },
   "outputs": [],
   "source": [
    "os.environ['GIT_PYTHON_REFRESH']=\"quiet\""
   ]
  },
  {
   "cell_type": "code",
   "execution_count": 133,
   "metadata": {
    "tags": []
   },
   "outputs": [],
   "source": [
    "#Manipulação de dados\n",
    "import pandas as pd"
   ]
  },
  {
   "cell_type": "code",
   "execution_count": 134,
   "metadata": {
    "tags": []
   },
   "outputs": [],
   "source": [
    "# Pré-Processamento\n",
    "from sklearn.preprocessing import StandardScaler"
   ]
  },
  {
   "cell_type": "code",
   "execution_count": 135,
   "metadata": {
    "tags": []
   },
   "outputs": [],
   "source": [
    "# Criação do modelo\n",
    "from sklearn.model_selection import train_test_split\n",
    "from sklearn.neighbors import KNeighborsClassifier\n",
    "from sklearn.pipeline import Pipeline"
   ]
  },
  {
   "cell_type": "code",
   "execution_count": 136,
   "metadata": {
    "tags": []
   },
   "outputs": [],
   "source": [
    "#Métricas\n",
    "from sklearn.metrics import accuracy_score\n",
    "from sklearn.metrics import precision_score\n",
    "from sklearn.metrics import recall_score\n",
    "from sklearn.metrics import f1_score\n",
    "from sklearn.metrics import roc_auc_score\n",
    "from sklearn.metrics import classification_report\n",
    "from sklearn.metrics import confusion_matrix"
   ]
  },
  {
   "cell_type": "code",
   "execution_count": 137,
   "metadata": {
    "tags": []
   },
   "outputs": [],
   "source": [
    "#Ignorar avisos de atualização, etc\n",
    "import warnings\n",
    "warnings.filterwarnings(\"ignore\")"
   ]
  },
  {
   "cell_type": "code",
   "execution_count": 138,
   "metadata": {
    "tags": []
   },
   "outputs": [],
   "source": [
    "#Gráficos\n",
    "import seaborn as sns\n",
    "import matplotlib.pyplot as plt"
   ]
  },
  {
   "cell_type": "code",
   "execution_count": 139,
   "metadata": {
    "tags": []
   },
   "outputs": [],
   "source": [
    "import logging\n",
    "\n",
    "logging.basicConfig(level=logging.WARN)\n",
    "logger = logging.getLogger(__name__)"
   ]
  },
  {
   "cell_type": "code",
   "execution_count": 140,
   "metadata": {
    "tags": []
   },
   "outputs": [
    {
     "data": {
      "text/plain": [
       "<Experiment: artifact_location='s3://mlflow', creation_time=1698102588057, experiment_id='395748697962635838', last_update_time=1698102588057, lifecycle_stage='active', name='poc', tags={}>"
      ]
     },
     "execution_count": 140,
     "metadata": {},
     "output_type": "execute_result"
    }
   ],
   "source": [
    "experiment = 'poc'\n",
    "# mlflow.set_tracking_uri(f\"http://{os.getenv('MLFLOW_TRACKING_URI')}:5000\")\n",
    "if mlflow.get_experiment_by_name(experiment) is None:\n",
    "    mlflow.create_experiment(experiment, artifact_location='s3://mlflow')\n",
    "mlflow.set_experiment(experiment_name=experiment)"
   ]
  },
  {
   "cell_type": "code",
   "execution_count": 141,
   "metadata": {
    "tags": []
   },
   "outputs": [],
   "source": [
    "tags = {\"Projeto\": \"Tutorial MLflow\", \"team\": \"Data Science\", \"dataset\": \"Wine\"}"
   ]
  },
  {
   "cell_type": "code",
   "execution_count": 142,
   "metadata": {
    "tags": []
   },
   "outputs": [],
   "source": [
    "def metricas(y_test, y_predict):\n",
    "    acuracia = accuracy_score(y_test, y_predict)\n",
    "    precision = precision_score(y_test, y_predict,average='weighted')\n",
    "    recall = recall_score(y_test, y_predict,average='weighted')\n",
    "    f1 = f1_score(y_test, y_predict,average='weighted')\n",
    "    return acuracia, precision, recall, f1\n",
    "\n",
    "def matriz_confusao(y_test, y_predict):\n",
    "    matriz_conf = confusion_matrix(y_test.values.ravel(), y_predict)\n",
    "    fig = plt.figure()\n",
    "    ax = plt.subplot()\n",
    "    sns.heatmap(matriz_conf, annot=True, cmap='Blues', ax=ax);\n",
    "\n",
    "    ax.set_xlabel('Valor Predito');\n",
    "    ax.set_ylabel('Valor Real'); \n",
    "    ax.set_title('Matriz de Confusão'); \n",
    "    ax.xaxis.set_ticklabels(['Classe 1', 'Classe 2', 'Classe 3']);\n",
    "    ax.yaxis.set_ticklabels(['Classe 1', 'Classe 2', 'Classe 3']);\n",
    "    plt.close()\n",
    "    return fig"
   ]
  },
  {
   "cell_type": "code",
   "execution_count": 143,
   "metadata": {
    "tags": []
   },
   "outputs": [],
   "source": [
    "from sklearn.datasets import load_iris\n",
    "iris = load_iris(as_frame=True)\n",
    "data = pd.DataFrame(iris.data)\n",
    "target = pd.DataFrame(iris.target)\n",
    "target = target.rename(columns={0: \"target\"})\n",
    "df = pd.concat([data, target], axis=1)"
   ]
  },
  {
   "cell_type": "code",
   "execution_count": 144,
   "metadata": {},
   "outputs": [],
   "source": [
    "#now that the data has been cleaned & explored, we can split the dataframe back into X (data) and y (target)\n",
    "\n",
    "X = df.copy()\n",
    "y = X.pop('target')"
   ]
  },
  {
   "cell_type": "code",
   "execution_count": 145,
   "metadata": {},
   "outputs": [],
   "source": [
    "from sklearn.model_selection import train_test_split\n",
    "\n",
    "x_train, x_test, y_train, y_test = train_test_split(\n",
    "    X, y, test_size=0.2, random_state=1, stratify = y)"
   ]
  },
  {
   "cell_type": "code",
   "execution_count": 146,
   "metadata": {
    "tags": []
   },
   "outputs": [
    {
     "name": "stderr",
     "output_type": "stream",
     "text": [
      "2023/10/23 20:15:41 WARNING mlflow.utils.autologging_utils: You are using an unsupported version of sklearn. If you encounter errors during autologging, try upgrading / downgrading sklearn to a supported version, or try upgrading MLflow.\n"
     ]
    },
    {
     "name": "stderr",
     "output_type": "stream",
     "text": [
      "2023/10/23 20:15:42 WARNING mlflow.utils.autologging_utils: Encountered unexpected error during sklearn autologging: Unable to locate credentials\n"
     ]
    },
    {
     "name": "stdout",
     "output_type": "stream",
     "text": [
      "Número de Vizinhos: 10\n",
      "Acurácia: 0.9666666666666667\n",
      "Precision: 0.9696969696969696\n",
      "Recall: 0.9666666666666667\n",
      "F1-Score: 0.9665831244778613\n"
     ]
    }
   ],
   "source": [
    "with mlflow.start_run(run_name='KNeighborsClassifier'):\n",
    "    mlflow.sklearn.autolog()\n",
    "    #Registro das tags\n",
    "    mlflow.set_tags(tags)\n",
    "\n",
    "    #Criação do modelo\n",
    "    n_vizinhos = 10\n",
    "    scaler = StandardScaler()\n",
    "    knn = KNeighborsClassifier(n_neighbors=n_vizinhos)\n",
    "    pipe = Pipeline([('scaler', StandardScaler()), ('knn', knn)])\n",
    "    pipe.fit(x_train, y_train)\n",
    "    #Predição dos valores de testes\n",
    "    y_pred_knn = pipe.predict(x_test)\n",
    "\n",
    "    #Métricas\n",
    "    acuracia, precision, recall, f1 = metricas(y_test, y_pred_knn)\n",
    "    print(\"Número de Vizinhos: {}\\nAcurácia: {}\\nPrecision: {}\\nRecall: {}\\nF1-Score: {}\".\n",
    "         format(n_vizinhos, acuracia, precision, recall, f1))\n",
    "    #Matriz de confusão\n",
    "    matriz_conf = matriz_confusao(y_test, y_pred_knn)\n",
    "    temp_name = \"confusion-matrix.png\"\n",
    "    matriz_conf.savefig(temp_name)\n",
    "    # mlflow.log_artifact(temp_name, \"confusion-matrix-plots\")\n",
    "    try:\n",
    "        os.remove(temp_name)\n",
    "    except FileNotFoundError as e:\n",
    "        print(f\"{temp_name} file is not found\")\n",
    "\n",
    "    #Registro dos parâmetros e das métricas\n",
    "    mlflow.log_param(\"n_neighbors\", n_vizinhos)\n",
    "    mlflow.log_metric(\"Acuracia\", acuracia)\n",
    "    mlflow.log_metric(\"Precision\", precision)\n",
    "    mlflow.log_metric(\"Recall\", recall)\n",
    "    mlflow.log_metric(\"F1-Score\", f1)\n",
    "\n",
    "    import joblib\n",
    "    filename = \"iris_dt_v1.joblib\"\n",
    "    joblib.dump(pipe, filename)\n",
    "    \n"
   ]
  },
  {
   "cell_type": "code",
   "execution_count": 147,
   "metadata": {},
   "outputs": [
    {
     "name": "stdout",
     "output_type": "stream",
     "text": [
      "[0 0 0 0]\n"
     ]
    }
   ],
   "source": [
    "loaded_model = joblib.load(filename)\n",
    "\n",
    "y_predicted = loaded_model.predict(X.iloc[:4,:4])\n",
    "\n",
    "print(y_predicted)"
   ]
  }
 ],
 "metadata": {
  "kernelspec": {
   "display_name": "Python 3 (ipykernel)",
   "language": "python",
   "name": "python3"
  },
  "language_info": {
   "codemirror_mode": {
    "name": "ipython",
    "version": 3
   },
   "file_extension": ".py",
   "mimetype": "text/x-python",
   "name": "python",
   "nbconvert_exporter": "python",
   "pygments_lexer": "ipython3",
   "version": "3.10.7"
  }
 },
 "nbformat": 4,
 "nbformat_minor": 4
}
